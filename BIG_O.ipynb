{
 "cells": [
  {
   "cell_type": "markdown",
   "metadata": {},
   "source": [
    "# Big O\n",
    "\n",
    "- Big O is a way comparing code 1 and code 2 mathematically.\n",
    "- Compares how the different codes run efficiently.\n",
    "\n",
    "\n",
    "# What is Big O Notation?\n",
    "\n",
    "Big O notation is a mathematical notation used in computer science to describe the performance or complexity of an algorithm in terms of how it responds to changes in input size. It's particularly useful for analyzing the efficiency of algorithms and determining how they will scale with larger inputs.\n",
    "\n",
    "### Why is Big O Important?\n",
    "\n",
    "Understanding the time and space complexity of algorithms is crucial for writing efficient code. By analyzing algorithms with Big O notation, you can predict how they will perform as the size of the input grows. This helps in choosing the most appropriate algorithm for a given problem and optimizing code for better performance.\n",
    "\n",
    "### Basic Notation\n",
    "\n",
    "Big O notation is expressed as O(f(n)), where:\n",
    "- O: Indicates the order of growth of a function.\n",
    "- f(n): Describes the relationship between the input size (n) and the number of operations performed by the algorithm.\n",
    "\n",
    "### Common Notations\n",
    "\n",
    "#### O(1) - Constant Time\n",
    "\n",
    "An algorithm with constant time complexity executes in the same amount of time regardless of the size of the input.\n",
    "\n",
    "```python\n",
    "def constant_time(arr):\n",
    "    return arr[0]\n",
    "```\n",
    "\n",
    "#### O(n) - Linear Time\n",
    "\n",
    "An algorithm with linear time complexity has a runtime proportional to the size of the input.\n",
    "\n",
    "```python\n",
    "def linear_time(arr):\n",
    "    for num in arr:\n",
    "        print(num)\n",
    "```\n",
    "\n",
    "#### O(n^2) - Quadratic Time\n",
    "\n",
    "An algorithm with quadratic time complexity has a runtime proportional to the square of the size of the input.\n",
    "\n",
    "```python\n",
    "def quadratic_time(arr):\n",
    "    for i in arr:\n",
    "        for j in arr:\n",
    "            print(i, j)\n",
    "```\n",
    "\n",
    "#### O(log n) - Logarithmic Time\n",
    "\n",
    "An algorithm with logarithmic time complexity reduces the size of the problem in each step by a factor of a constant.\n",
    "\n",
    "```python\n",
    "def binary_search(arr, target):\n",
    "    low = 0\n",
    "    high = len(arr) - 1\n",
    "\n",
    "    while low <= high:\n",
    "        mid = (low + high) // 2\n",
    "        if arr[mid] == target:\n",
    "            return mid\n",
    "        elif arr[mid] < target:\n",
    "            low = mid + 1\n",
    "        else:\n",
    "            high = mid - 1\n",
    "\n",
    "    return -1\n",
    "```\n",
    "\n",
    "### Conclusion\n",
    "\n",
    "Big O notation is a powerful tool for analyzing the efficiency of algorithms. By understanding the time and space complexity of different algorithms, you can make informed decisions when designing and optimizing code.\n",
    "\n",
    "# 0(1)  - Constant\n",
    "# 0(log n) - Divide and conquer\n",
    "# 0(n) - proportional\n",
    "# 0(n^2) - Loop within a loop"
   ]
  },
  {
   "cell_type": "code",
   "execution_count": 2,
   "metadata": {},
   "outputs": [
    {
     "name": "stdout",
     "output_type": "stream",
     "text": [
      "0\n",
      "1\n",
      "2\n",
      "3\n",
      "4\n",
      "5\n",
      "6\n",
      "7\n",
      "8\n",
      "9\n",
      "0\n",
      "1\n",
      "2\n",
      "3\n",
      "4\n",
      "5\n",
      "6\n",
      "7\n",
      "8\n",
      "9\n"
     ]
    }
   ],
   "source": [
    "# This is an example with o(n)  -- proportional\n",
    "\n",
    "def print_items(n):\n",
    "    for i in range(n):\n",
    "        print(i)\n",
    "\n",
    "    for j in range(n):\n",
    "        print(j)   \n",
    "\n",
    "print_items(10)  # This ran 2n"
   ]
  },
  {
   "cell_type": "code",
   "execution_count": 3,
   "metadata": {},
   "outputs": [
    {
     "name": "stdout",
     "output_type": "stream",
     "text": [
      "0 0\n",
      "0 1\n",
      "0 2\n",
      "0 3\n",
      "0 4\n",
      "1 0\n",
      "1 1\n",
      "1 2\n",
      "1 3\n",
      "1 4\n",
      "2 0\n",
      "2 1\n",
      "2 2\n",
      "2 3\n",
      "2 4\n",
      "3 0\n",
      "3 1\n",
      "3 2\n",
      "3 3\n",
      "3 4\n",
      "4 0\n",
      "4 1\n",
      "4 2\n",
      "4 3\n",
      "4 4\n"
     ]
    }
   ],
   "source": [
    "#  n *n =n squared  0(nsquared)\n",
    "\n",
    "def print_items(n):\n",
    "    for i in range(n):\n",
    "        for j in range(n):\n",
    "            print(i,j)\n",
    "\n",
    "print_items(5)    # It printed 5*5 items"
   ]
  },
  {
   "cell_type": "code",
   "execution_count": 6,
   "metadata": {},
   "outputs": [
    {
     "name": "stdout",
     "output_type": "stream",
     "text": [
      "0 0\n",
      "0 1\n",
      "0 2\n",
      "0 3\n",
      "0 4\n",
      "1 0\n",
      "1 1\n",
      "1 2\n",
      "1 3\n",
      "1 4\n",
      "2 0\n",
      "2 1\n",
      "2 2\n",
      "2 3\n",
      "2 4\n",
      "3 0\n",
      "3 1\n",
      "3 2\n",
      "3 3\n",
      "3 4\n",
      "4 0\n",
      "4 1\n",
      "4 2\n",
      "4 3\n",
      "4 4\n",
      "0\n",
      "1\n",
      "2\n",
      "3\n",
      "4\n"
     ]
    }
   ],
   "source": [
    "# drop nondominants\n",
    "# 0(n^2 + n)\n",
    "def print_items(n):\n",
    "    for i in range(n):\n",
    "        for j in range(n):\n",
    "            print(i,j)\n",
    "\n",
    "    for k in range(n):\n",
    "        print(k)\n",
    "\n",
    "# n is the non dominant and n^2 is the dominant\n",
    "print_items(5)\n",
    " # as n increases the number of operations increases"
   ]
  },
  {
   "cell_type": "code",
   "execution_count": 8,
   "metadata": {},
   "outputs": [
    {
     "data": {
      "text/plain": [
       "4"
      ]
     },
     "execution_count": 8,
     "metadata": {},
     "output_type": "execute_result"
    }
   ],
   "source": [
    "# o(1)\n",
    "\n",
    "def add_items(n):\n",
    "    return n+n\n",
    "\n",
    "add_items(2)  # as n increases the number of operfations remain constants.This is the most efficient BIG O"
   ]
  },
  {
   "cell_type": "code",
   "execution_count": 9,
   "metadata": {},
   "outputs": [
    {
     "name": "stdout",
     "output_type": "stream",
     "text": [
      "[11, 3, 23, 7, 17, 4]\n"
     ]
    }
   ],
   "source": [
    "# BIG 0(log n)   # most efficient in sorting algorithms\n",
    "# Have sorted data\n",
    "\n",
    "# BIG 0 IN LISTS\n",
    "my_list = [11,3,23,7,17]\n",
    "my_list.append(4)\n",
    "print(my_list)\n"
   ]
  },
  {
   "cell_type": "code",
   "execution_count": null,
   "metadata": {},
   "outputs": [],
   "source": []
  }
 ],
 "metadata": {
  "kernelspec": {
   "display_name": "Python 3",
   "language": "python",
   "name": "python3"
  },
  "language_info": {
   "codemirror_mode": {
    "name": "ipython",
    "version": 3
   },
   "file_extension": ".py",
   "mimetype": "text/x-python",
   "name": "python",
   "nbconvert_exporter": "python",
   "pygments_lexer": "ipython3",
   "version": "3.12.1"
  }
 },
 "nbformat": 4,
 "nbformat_minor": 2
}
